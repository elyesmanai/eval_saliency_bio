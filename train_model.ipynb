{
 "cells": [
  {
   "cell_type": "code",
   "execution_count": 4,
   "metadata": {},
   "outputs": [],
   "source": [
    "from tensorflow.keras.preprocessing.image import ImageDataGenerator\n",
    "from keras.layers import Input, Conv2D, MaxPooling2D, Flatten, Dense, Dropout, Dropout, Flatten, Dense\n",
    "from keras.models import Model\n",
    "import util_funcs\n",
    "import pandas as pd\n",
    "import json\n",
    "\n",
    "import tensorflow as tf\n",
    "from keras.saving import load_model\n",
    "from keras.models import clone_model"
   ]
  },
  {
   "cell_type": "code",
   "execution_count": 3,
   "metadata": {},
   "outputs": [],
   "source": [
    "def create_model():\n",
    "  # Define the input with the shape of the input data\n",
    "  inputs = Input(shape=(206, 192, 3))\n",
    "\n",
    "  # Create the layers using the Functional API\n",
    "  x = Conv2D(32, (3, 3), activation='relu')(inputs)\n",
    "  x = MaxPooling2D(pool_size=(2, 2))(x)\n",
    "\n",
    "  x = Conv2D(32, (3, 3), activation='relu')(x)\n",
    "  x = MaxPooling2D(pool_size=(2, 2))(x)\n",
    "\n",
    "  x = Conv2D(64, (3, 3), activation='relu')(x)\n",
    "  x = MaxPooling2D(pool_size=(2, 2))(x)\n",
    "\n",
    "  x = Flatten()(x)\n",
    "  x = Dense(64, activation='relu')(x)\n",
    "  x = Dropout(0.5)(x)\n",
    "\n",
    "  # Output layer\n",
    "  outputs = Dense(4, activation='softmax')(x)\n",
    "\n",
    "  # Create the model\n",
    "  model = Model(inputs=inputs, outputs=outputs)\n",
    "\n",
    "  # Compile the model\n",
    "  model.compile(loss='sparse_categorical_crossentropy', optimizer='adam', metrics=['accuracy'])\n",
    "\n",
    "  return model\n",
    "\n",
    "def confusion_matrix(model, generator):\n",
    "    y_true = generator.classes\n",
    "    y_pred = model.predict(generator)\n",
    "    y_pred = y_pred.argmax(axis=1)\n",
    "    return tf.math.confusion_matrix(y_true, y_pred)"
   ]
  },
  {
   "cell_type": "code",
   "execution_count": 5,
   "metadata": {},
   "outputs": [
    {
     "name": "stdout",
     "output_type": "stream",
     "text": [
      "Found 43870 validated image filenames belonging to 4 classes.\n",
      "Found 10967 validated image filenames belonging to 4 classes.\n",
      "{0: 'CR', 1: 'Nope', 2: 'Obl', 3: 'Zcut'}\n"
     ]
    }
   ],
   "source": [
    "data = pd.read_csv('data/labels.csv')\n",
    "data = data[data['shape'] == '(103, 96)']\n",
    "\n",
    "img_size = (206,192)\n",
    "batch_size = 32\n",
    "\n",
    "datagen = ImageDataGenerator(rescale=1./255, validation_split=0.2)\n",
    "train_generator, validation_generator = util_funcs.make_generators(\n",
    "    datagen, data, \"path\", \"alteration\", img_size, batch_size, 'sparse')\n",
    "\n",
    "class_indices = validation_generator.class_indices\n",
    "label_to_class = {v: k for k, v in class_indices.items()}\n",
    "\n",
    "print(label_to_class)\n",
    "with open('data/label_to_class.json', 'w') as f:\n",
    "    json.dump(label_to_class, f)"
   ]
  },
  {
   "cell_type": "code",
   "execution_count": null,
   "metadata": {},
   "outputs": [],
   "source": [
    "model = create_model()\n",
    "\n",
    "callbacks = [tf.keras.callbacks.EarlyStopping(monitor='val_loss', patience=2, restore_best_weights=True)]\n",
    "model.fit(train_generator, epochs=10, validation_data=validation_generator, verbose=1, callbacks=callbacks)\n",
    "model.save('models/custom_cnn.keras')"
   ]
  },
  {
   "cell_type": "code",
   "execution_count": null,
   "metadata": {},
   "outputs": [],
   "source": [
    "cm = confusion_matrix(model, validation_generator)\n",
    " \n",
    "accuracy = tf.reduce_sum(tf.linalg.diag_part(cm)) / tf.reduce_sum(cm)\n",
    "precision = tf.linalg.diag_part(cm) / tf.reduce_sum(cm, axis=0)\n",
    "recall = tf.linalg.diag_part(cm) / tf.reduce_sum(cm, axis=1)\n",
    "f1 = 2 * precision * recall / (precision + recall)\n",
    "\n",
    "metrics = {\n",
    "    \"accuracy\": accuracy.numpy(),\n",
    "    \"precision\": precision.numpy().tolist(),\n",
    "    \"recall\": recall.numpy().tolist(),\n",
    "    \"f1\": f1.numpy().tolist()\n",
    "}\n",
    "\n",
    "with open('data/metrics.json', 'w') as f:\n",
    "    json.dump(metrics, f)\n",
    "\n",
    "print(metrics)"
   ]
  }
 ],
 "metadata": {
  "kernelspec": {
   "display_name": "Python 3",
   "language": "python",
   "name": "python3"
  },
  "language_info": {
   "codemirror_mode": {
    "name": "ipython",
    "version": 3
   },
   "file_extension": ".py",
   "mimetype": "text/x-python",
   "name": "python",
   "nbconvert_exporter": "python",
   "pygments_lexer": "ipython3",
   "version": "3.10.10"
  }
 },
 "nbformat": 4,
 "nbformat_minor": 2
}
